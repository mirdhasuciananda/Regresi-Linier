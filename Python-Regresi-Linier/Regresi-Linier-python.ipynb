{
 "cells": [
  {
   "cell_type": "markdown",
   "id": "74af6030",
   "metadata": {},
   "source": [
    "# Regresi Linier"
   ]
  },
  {
   "cell_type": "markdown",
   "id": "f579e086",
   "metadata": {},
   "source": [
    "disini penjelasan"
   ]
  },
  {
   "cell_type": "code",
   "execution_count": 1,
   "id": "00c714f9",
   "metadata": {},
   "outputs": [],
   "source": [
    "# import library dan modul\n",
    "import pandas as pd\n",
    "import numpy as np\n",
    "import matplotlib as plt\n",
    "import seaborn as sns\n",
    "from sklearn import linear_model\n",
    "from sklearn.model_selection import train_test_split"
   ]
  },
  {
   "cell_type": "code",
   "execution_count": 2,
   "id": "0d9938ee",
   "metadata": {},
   "outputs": [
    {
     "data": {
      "text/html": [
       "<div>\n",
       "<style scoped>\n",
       "    .dataframe tbody tr th:only-of-type {\n",
       "        vertical-align: middle;\n",
       "    }\n",
       "\n",
       "    .dataframe tbody tr th {\n",
       "        vertical-align: top;\n",
       "    }\n",
       "\n",
       "    .dataframe thead th {\n",
       "        text-align: right;\n",
       "    }\n",
       "</style>\n",
       "<table border=\"1\" class=\"dataframe\">\n",
       "  <thead>\n",
       "    <tr style=\"text-align: right;\">\n",
       "      <th></th>\n",
       "      <th>price</th>\n",
       "      <th>distance_to_city_center</th>\n",
       "      <th>rooms</th>\n",
       "      <th>size</th>\n",
       "    </tr>\n",
       "  </thead>\n",
       "  <tbody>\n",
       "    <tr>\n",
       "      <th>0</th>\n",
       "      <td>191.565</td>\n",
       "      <td>2.4</td>\n",
       "      <td>1</td>\n",
       "      <td>19.35</td>\n",
       "    </tr>\n",
       "    <tr>\n",
       "      <th>1</th>\n",
       "      <td>221.568</td>\n",
       "      <td>2.4</td>\n",
       "      <td>2</td>\n",
       "      <td>13.08</td>\n",
       "    </tr>\n",
       "    <tr>\n",
       "      <th>2</th>\n",
       "      <td>185.936</td>\n",
       "      <td>5.0</td>\n",
       "      <td>1</td>\n",
       "      <td>24.66</td>\n",
       "    </tr>\n",
       "    <tr>\n",
       "      <th>3</th>\n",
       "      <td>275.502</td>\n",
       "      <td>1.9</td>\n",
       "      <td>1</td>\n",
       "      <td>24.82</td>\n",
       "    </tr>\n",
       "    <tr>\n",
       "      <th>4</th>\n",
       "      <td>241.205</td>\n",
       "      <td>1.9</td>\n",
       "      <td>1</td>\n",
       "      <td>25.39</td>\n",
       "    </tr>\n",
       "    <tr>\n",
       "      <th>...</th>\n",
       "      <td>...</td>\n",
       "      <td>...</td>\n",
       "      <td>...</td>\n",
       "      <td>...</td>\n",
       "    </tr>\n",
       "    <tr>\n",
       "      <th>71</th>\n",
       "      <td>325.000</td>\n",
       "      <td>5.4</td>\n",
       "      <td>2</td>\n",
       "      <td>41.31</td>\n",
       "    </tr>\n",
       "    <tr>\n",
       "      <th>72</th>\n",
       "      <td>373.088</td>\n",
       "      <td>3.0</td>\n",
       "      <td>2</td>\n",
       "      <td>41.94</td>\n",
       "    </tr>\n",
       "    <tr>\n",
       "      <th>73</th>\n",
       "      <td>177.702</td>\n",
       "      <td>11.3</td>\n",
       "      <td>1</td>\n",
       "      <td>34.18</td>\n",
       "    </tr>\n",
       "    <tr>\n",
       "      <th>74</th>\n",
       "      <td>264.110</td>\n",
       "      <td>4.0</td>\n",
       "      <td>2</td>\n",
       "      <td>34.30</td>\n",
       "    </tr>\n",
       "    <tr>\n",
       "      <th>75</th>\n",
       "      <td>242.520</td>\n",
       "      <td>6.4</td>\n",
       "      <td>2</td>\n",
       "      <td>34.40</td>\n",
       "    </tr>\n",
       "  </tbody>\n",
       "</table>\n",
       "<p>76 rows × 4 columns</p>\n",
       "</div>"
      ],
      "text/plain": [
       "      price  distance_to_city_center  rooms   size\n",
       "0   191.565                      2.4      1  19.35\n",
       "1   221.568                      2.4      2  13.08\n",
       "2   185.936                      5.0      1  24.66\n",
       "3   275.502                      1.9      1  24.82\n",
       "4   241.205                      1.9      1  25.39\n",
       "..      ...                      ...    ...    ...\n",
       "71  325.000                      5.4      2  41.31\n",
       "72  373.088                      3.0      2  41.94\n",
       "73  177.702                     11.3      1  34.18\n",
       "74  264.110                      4.0      2  34.30\n",
       "75  242.520                      6.4      2  34.40\n",
       "\n",
       "[76 rows x 4 columns]"
      ]
     },
     "execution_count": 2,
     "metadata": {},
     "output_type": "execute_result"
    }
   ],
   "source": [
    "# load dataset Dataapartements\n",
    "df = pd.read_csv('Dataapartments.csv')\n",
    "\n",
    "# menampilkan dataset\n",
    "df"
   ]
  },
  {
   "cell_type": "code",
   "execution_count": 3,
   "id": "a7c2a466",
   "metadata": {},
   "outputs": [
    {
     "name": "stdout",
     "output_type": "stream",
     "text": [
      "<class 'pandas.core.frame.DataFrame'>\n",
      "RangeIndex: 76 entries, 0 to 75\n",
      "Data columns (total 4 columns):\n",
      " #   Column                   Non-Null Count  Dtype  \n",
      "---  ------                   --------------  -----  \n",
      " 0   price                    76 non-null     float64\n",
      " 1   distance_to_city_center  76 non-null     float64\n",
      " 2   rooms                    76 non-null     int64  \n",
      " 3   size                     76 non-null     float64\n",
      "dtypes: float64(3), int64(1)\n",
      "memory usage: 2.5 KB\n"
     ]
    }
   ],
   "source": [
    "# melihat informasi mengenai dataset\n",
    "df.info()"
   ]
  },
  {
   "cell_type": "code",
   "execution_count": 4,
   "id": "6cb7403e",
   "metadata": {},
   "outputs": [
    {
     "data": {
      "text/html": [
       "<div>\n",
       "<style scoped>\n",
       "    .dataframe tbody tr th:only-of-type {\n",
       "        vertical-align: middle;\n",
       "    }\n",
       "\n",
       "    .dataframe tbody tr th {\n",
       "        vertical-align: top;\n",
       "    }\n",
       "\n",
       "    .dataframe thead th {\n",
       "        text-align: right;\n",
       "    }\n",
       "</style>\n",
       "<table border=\"1\" class=\"dataframe\">\n",
       "  <thead>\n",
       "    <tr style=\"text-align: right;\">\n",
       "      <th></th>\n",
       "      <th>price</th>\n",
       "      <th>distance_to_city_center</th>\n",
       "      <th>rooms</th>\n",
       "      <th>size</th>\n",
       "    </tr>\n",
       "  </thead>\n",
       "  <tbody>\n",
       "    <tr>\n",
       "      <th>count</th>\n",
       "      <td>76.000000</td>\n",
       "      <td>76.000000</td>\n",
       "      <td>76.000000</td>\n",
       "      <td>76.000000</td>\n",
       "    </tr>\n",
       "    <tr>\n",
       "      <th>mean</th>\n",
       "      <td>356.867974</td>\n",
       "      <td>5.106579</td>\n",
       "      <td>2.644737</td>\n",
       "      <td>48.138684</td>\n",
       "    </tr>\n",
       "    <tr>\n",
       "      <th>std</th>\n",
       "      <td>157.198524</td>\n",
       "      <td>2.295639</td>\n",
       "      <td>1.261787</td>\n",
       "      <td>22.009502</td>\n",
       "    </tr>\n",
       "    <tr>\n",
       "      <th>min</th>\n",
       "      <td>151.757000</td>\n",
       "      <td>1.400000</td>\n",
       "      <td>1.000000</td>\n",
       "      <td>13.080000</td>\n",
       "    </tr>\n",
       "    <tr>\n",
       "      <th>25%</th>\n",
       "      <td>235.533750</td>\n",
       "      <td>3.000000</td>\n",
       "      <td>2.000000</td>\n",
       "      <td>30.600000</td>\n",
       "    </tr>\n",
       "    <tr>\n",
       "      <th>50%</th>\n",
       "      <td>298.442500</td>\n",
       "      <td>5.050000</td>\n",
       "      <td>2.500000</td>\n",
       "      <td>41.280000</td>\n",
       "    </tr>\n",
       "    <tr>\n",
       "      <th>75%</th>\n",
       "      <td>433.078500</td>\n",
       "      <td>6.800000</td>\n",
       "      <td>3.250000</td>\n",
       "      <td>58.162500</td>\n",
       "    </tr>\n",
       "    <tr>\n",
       "      <th>max</th>\n",
       "      <td>808.144000</td>\n",
       "      <td>11.300000</td>\n",
       "      <td>5.000000</td>\n",
       "      <td>106.960000</td>\n",
       "    </tr>\n",
       "  </tbody>\n",
       "</table>\n",
       "</div>"
      ],
      "text/plain": [
       "            price  distance_to_city_center      rooms        size\n",
       "count   76.000000                76.000000  76.000000   76.000000\n",
       "mean   356.867974                 5.106579   2.644737   48.138684\n",
       "std    157.198524                 2.295639   1.261787   22.009502\n",
       "min    151.757000                 1.400000   1.000000   13.080000\n",
       "25%    235.533750                 3.000000   2.000000   30.600000\n",
       "50%    298.442500                 5.050000   2.500000   41.280000\n",
       "75%    433.078500                 6.800000   3.250000   58.162500\n",
       "max    808.144000                11.300000   5.000000  106.960000"
      ]
     },
     "execution_count": 4,
     "metadata": {},
     "output_type": "execute_result"
    }
   ],
   "source": [
    "# melihat statistik data\n",
    "df.describe()"
   ]
  },
  {
   "cell_type": "markdown",
   "id": "4a072b46",
   "metadata": {},
   "source": [
    "disini penjelasan\n",
    "variabel y dan variabel x\n",
    "penjelasan korelasi"
   ]
  },
  {
   "cell_type": "code",
   "execution_count": 5,
   "id": "f688a521",
   "metadata": {},
   "outputs": [
    {
     "data": {
      "text/html": [
       "<div>\n",
       "<style scoped>\n",
       "    .dataframe tbody tr th:only-of-type {\n",
       "        vertical-align: middle;\n",
       "    }\n",
       "\n",
       "    .dataframe tbody tr th {\n",
       "        vertical-align: top;\n",
       "    }\n",
       "\n",
       "    .dataframe thead th {\n",
       "        text-align: right;\n",
       "    }\n",
       "</style>\n",
       "<table border=\"1\" class=\"dataframe\">\n",
       "  <thead>\n",
       "    <tr style=\"text-align: right;\">\n",
       "      <th></th>\n",
       "      <th>price</th>\n",
       "      <th>distance_to_city_center</th>\n",
       "      <th>rooms</th>\n",
       "      <th>size</th>\n",
       "    </tr>\n",
       "  </thead>\n",
       "  <tbody>\n",
       "    <tr>\n",
       "      <th>price</th>\n",
       "      <td>1.000000</td>\n",
       "      <td>-0.197061</td>\n",
       "      <td>0.883011</td>\n",
       "      <td>0.928697</td>\n",
       "    </tr>\n",
       "    <tr>\n",
       "      <th>distance_to_city_center</th>\n",
       "      <td>-0.197061</td>\n",
       "      <td>1.000000</td>\n",
       "      <td>0.024754</td>\n",
       "      <td>0.096394</td>\n",
       "    </tr>\n",
       "    <tr>\n",
       "      <th>rooms</th>\n",
       "      <td>0.883011</td>\n",
       "      <td>0.024754</td>\n",
       "      <td>1.000000</td>\n",
       "      <td>0.943043</td>\n",
       "    </tr>\n",
       "    <tr>\n",
       "      <th>size</th>\n",
       "      <td>0.928697</td>\n",
       "      <td>0.096394</td>\n",
       "      <td>0.943043</td>\n",
       "      <td>1.000000</td>\n",
       "    </tr>\n",
       "  </tbody>\n",
       "</table>\n",
       "</div>"
      ],
      "text/plain": [
       "                            price  distance_to_city_center     rooms      size\n",
       "price                    1.000000                -0.197061  0.883011  0.928697\n",
       "distance_to_city_center -0.197061                 1.000000  0.024754  0.096394\n",
       "rooms                    0.883011                 0.024754  1.000000  0.943043\n",
       "size                     0.928697                 0.096394  0.943043  1.000000"
      ]
     },
     "execution_count": 5,
     "metadata": {},
     "output_type": "execute_result"
    }
   ],
   "source": [
    "# menghitung korelasi\n",
    "df.corr()"
   ]
  },
  {
   "cell_type": "code",
   "execution_count": 6,
   "id": "d39c0a57",
   "metadata": {},
   "outputs": [
    {
     "data": {
      "text/plain": [
       "Text(0.5, 1.0, 'Korelasi antar variabel')"
      ]
     },
     "execution_count": 6,
     "metadata": {},
     "output_type": "execute_result"
    },
    {
     "data": {
      "image/png": "[encoded data removed]",
      "text/plain": [
       "<Figure size 432x288 with 2 Axes>"
      ]
     },
     "metadata": {
      "needs_background": "light"
     },
     "output_type": "display_data"
    }
   ],
   "source": [
    "# melihat korelasi dengan visualisasi heatmap\n",
    "sns.heatmap(df.corr(), annot=False, fmt=\"f\").set_title(\"Korelasi antar variabel\")"
   ]
  },
  {
   "cell_type": "markdown",
   "id": "22a8bbf3",
   "metadata": {},
   "source": [
    "penjelasan hasil korelasi"
   ]
  },
  {
   "cell_type": "code",
   "execution_count": 7,
   "id": "31915d7a",
   "metadata": {},
   "outputs": [
    {
     "data": {
      "text/plain": [
       "<seaborn.axisgrid.PairGrid at 0x27d8ddc7d90>"
      ]
     },
     "execution_count": 7,
     "metadata": {},
     "output_type": "execute_result"
    },
    {
     "data": {
      "image/png": "[encoded data removed]",
      "text/plain": [
       "<Figure size 540x180 with 3 Axes>"
      ]
     },
     "metadata": {
      "needs_background": "light"
     },
     "output_type": "display_data"
    }
   ],
   "source": [
    "# visualisasi menggunakan scatter plot\n",
    "sns.pairplot(df, x_vars=['distance_to_city_center', 'rooms', 'size'], y_vars='price')"
   ]
  },
  {
   "cell_type": "markdown",
   "id": "6ef397c0",
   "metadata": {},
   "source": [
    "## Regresi Linier Sederhana"
   ]
  },
  {
   "cell_type": "markdown",
   "id": "c5f06661",
   "metadata": {},
   "source": [
    "penjelasan mengenai pengambila variabel x dan y"
   ]
  },
  {
   "cell_type": "code",
   "execution_count": 8,
   "id": "d36346b2",
   "metadata": {},
   "outputs": [],
   "source": [
    "# mendefinisikan variabel y dan variabel x\n",
    "x = df['size']\n",
    "y = df['price']"
   ]
  },
  {
   "cell_type": "code",
   "execution_count": null,
   "id": "c510bfef",
   "metadata": {},
   "outputs": [],
   "source": []
  }
 ],
 "metadata": {
  "kernelspec": {
   "display_name": "Python 3 (ipykernel)",
   "language": "python",
   "name": "python3"
  },
  "language_info": {
   "codemirror_mode": {
    "name": "ipython",
    "version": 3
   },
   "file_extension": ".py",
   "mimetype": "text/x-python",
   "name": "python",
   "nbconvert_exporter": "python",
   "pygments_lexer": "ipython3",
   "version": "3.9.9"
  }
 },
 "nbformat": 4,
 "nbformat_minor": 5
}
