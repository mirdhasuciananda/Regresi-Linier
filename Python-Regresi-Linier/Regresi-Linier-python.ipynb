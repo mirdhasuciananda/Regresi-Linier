{
 "cells": [
  {
   "cell_type": "markdown",
   "id": "74af6030",
   "metadata": {},
   "source": [
    "# Regresi Linier Sederhana menggunakan library sklearn"
   ]
  },
  {
   "cell_type": "markdown",
   "id": "f579e086",
   "metadata": {},
   "source": [
    "Penjelasan dapat dilihat pada https://medium.com/@mirdhasuciananda/regresi-linier-dengan-python-menggunakan-library-sklearn-3ce89b7f801c"
   ]
  },
  {
   "cell_type": "code",
   "execution_count": 1,
   "id": "00c714f9",
   "metadata": {},
   "outputs": [],
   "source": [
    "# import library dan modul\n",
    "import pandas as pd\n",
    "import numpy as np\n",
    "import matplotlib as plt\n",
    "from matplotlib import pyplot as plt\n",
    "import seaborn as sns\n",
    "import sklearn.metrics as metrics\n",
    "from sklearn import linear_model\n",
    "from sklearn.model_selection import train_test_split\n",
    "import math"
   ]
  },
  {
   "cell_type": "code",
   "execution_count": 2,
   "id": "0d9938ee",
   "metadata": {},
   "outputs": [
    {
     "data": {
      "text/html": [
       "<div>\n",
       "<style scoped>\n",
       "    .dataframe tbody tr th:only-of-type {\n",
       "        vertical-align: middle;\n",
       "    }\n",
       "\n",
       "    .dataframe tbody tr th {\n",
       "        vertical-align: top;\n",
       "    }\n",
       "\n",
       "    .dataframe thead th {\n",
       "        text-align: right;\n",
       "    }\n",
       "</style>\n",
       "<table border=\"1\" class=\"dataframe\">\n",
       "  <thead>\n",
       "    <tr style=\"text-align: right;\">\n",
       "      <th></th>\n",
       "      <th>price</th>\n",
       "      <th>distance_to_city_center</th>\n",
       "      <th>rooms</th>\n",
       "      <th>size</th>\n",
       "    </tr>\n",
       "  </thead>\n",
       "  <tbody>\n",
       "    <tr>\n",
       "      <th>0</th>\n",
       "      <td>191.565</td>\n",
       "      <td>2.4</td>\n",
       "      <td>1</td>\n",
       "      <td>19.35</td>\n",
       "    </tr>\n",
       "    <tr>\n",
       "      <th>1</th>\n",
       "      <td>221.568</td>\n",
       "      <td>2.4</td>\n",
       "      <td>2</td>\n",
       "      <td>13.08</td>\n",
       "    </tr>\n",
       "    <tr>\n",
       "      <th>2</th>\n",
       "      <td>185.936</td>\n",
       "      <td>5.0</td>\n",
       "      <td>1</td>\n",
       "      <td>24.66</td>\n",
       "    </tr>\n",
       "    <tr>\n",
       "      <th>3</th>\n",
       "      <td>275.502</td>\n",
       "      <td>1.9</td>\n",
       "      <td>1</td>\n",
       "      <td>24.82</td>\n",
       "    </tr>\n",
       "    <tr>\n",
       "      <th>4</th>\n",
       "      <td>241.205</td>\n",
       "      <td>1.9</td>\n",
       "      <td>1</td>\n",
       "      <td>25.39</td>\n",
       "    </tr>\n",
       "  </tbody>\n",
       "</table>\n",
       "</div>"
      ],
      "text/plain": [
       "     price  distance_to_city_center  rooms   size\n",
       "0  191.565                      2.4      1  19.35\n",
       "1  221.568                      2.4      2  13.08\n",
       "2  185.936                      5.0      1  24.66\n",
       "3  275.502                      1.9      1  24.82\n",
       "4  241.205                      1.9      1  25.39"
      ]
     },
     "execution_count": 2,
     "metadata": {},
     "output_type": "execute_result"
    }
   ],
   "source": [
    "# load dataset Dataapartements\n",
    "df = pd.read_csv('Dataapartments.csv')\n",
    "\n",
    "# menampilkan dataset\n",
    "df.head()"
   ]
  },
  {
   "cell_type": "code",
   "execution_count": 3,
   "id": "a7c2a466",
   "metadata": {},
   "outputs": [
    {
     "name": "stdout",
     "output_type": "stream",
     "text": [
      "<class 'pandas.core.frame.DataFrame'>\n",
      "RangeIndex: 76 entries, 0 to 75\n",
      "Data columns (total 4 columns):\n",
      " #   Column                   Non-Null Count  Dtype  \n",
      "---  ------                   --------------  -----  \n",
      " 0   price                    76 non-null     float64\n",
      " 1   distance_to_city_center  76 non-null     float64\n",
      " 2   rooms                    76 non-null     int64  \n",
      " 3   size                     76 non-null     float64\n",
      "dtypes: float64(3), int64(1)\n",
      "memory usage: 2.5 KB\n"
     ]
    }
   ],
   "source": [
    "# melihat informasi mengenai dataset\n",
    "df.info()"
   ]
  },
  {
   "cell_type": "code",
   "execution_count": 4,
   "id": "6cb7403e",
   "metadata": {},
   "outputs": [
    {
     "data": {
      "text/html": [
       "<div>\n",
       "<style scoped>\n",
       "    .dataframe tbody tr th:only-of-type {\n",
       "        vertical-align: middle;\n",
       "    }\n",
       "\n",
       "    .dataframe tbody tr th {\n",
       "        vertical-align: top;\n",
       "    }\n",
       "\n",
       "    .dataframe thead th {\n",
       "        text-align: right;\n",
       "    }\n",
       "</style>\n",
       "<table border=\"1\" class=\"dataframe\">\n",
       "  <thead>\n",
       "    <tr style=\"text-align: right;\">\n",
       "      <th></th>\n",
       "      <th>price</th>\n",
       "      <th>distance_to_city_center</th>\n",
       "      <th>rooms</th>\n",
       "      <th>size</th>\n",
       "    </tr>\n",
       "  </thead>\n",
       "  <tbody>\n",
       "    <tr>\n",
       "      <th>count</th>\n",
       "      <td>76.000000</td>\n",
       "      <td>76.000000</td>\n",
       "      <td>76.000000</td>\n",
       "      <td>76.000000</td>\n",
       "    </tr>\n",
       "    <tr>\n",
       "      <th>mean</th>\n",
       "      <td>356.867974</td>\n",
       "      <td>5.106579</td>\n",
       "      <td>2.644737</td>\n",
       "      <td>48.138684</td>\n",
       "    </tr>\n",
       "    <tr>\n",
       "      <th>std</th>\n",
       "      <td>157.198524</td>\n",
       "      <td>2.295639</td>\n",
       "      <td>1.261787</td>\n",
       "      <td>22.009502</td>\n",
       "    </tr>\n",
       "    <tr>\n",
       "      <th>min</th>\n",
       "      <td>151.757000</td>\n",
       "      <td>1.400000</td>\n",
       "      <td>1.000000</td>\n",
       "      <td>13.080000</td>\n",
       "    </tr>\n",
       "    <tr>\n",
       "      <th>25%</th>\n",
       "      <td>235.533750</td>\n",
       "      <td>3.000000</td>\n",
       "      <td>2.000000</td>\n",
       "      <td>30.600000</td>\n",
       "    </tr>\n",
       "    <tr>\n",
       "      <th>50%</th>\n",
       "      <td>298.442500</td>\n",
       "      <td>5.050000</td>\n",
       "      <td>2.500000</td>\n",
       "      <td>41.280000</td>\n",
       "    </tr>\n",
       "    <tr>\n",
       "      <th>75%</th>\n",
       "      <td>433.078500</td>\n",
       "      <td>6.800000</td>\n",
       "      <td>3.250000</td>\n",
       "      <td>58.162500</td>\n",
       "    </tr>\n",
       "    <tr>\n",
       "      <th>max</th>\n",
       "      <td>808.144000</td>\n",
       "      <td>11.300000</td>\n",
       "      <td>5.000000</td>\n",
       "      <td>106.960000</td>\n",
       "    </tr>\n",
       "  </tbody>\n",
       "</table>\n",
       "</div>"
      ],
      "text/plain": [
       "            price  distance_to_city_center      rooms        size\n",
       "count   76.000000                76.000000  76.000000   76.000000\n",
       "mean   356.867974                 5.106579   2.644737   48.138684\n",
       "std    157.198524                 2.295639   1.261787   22.009502\n",
       "min    151.757000                 1.400000   1.000000   13.080000\n",
       "25%    235.533750                 3.000000   2.000000   30.600000\n",
       "50%    298.442500                 5.050000   2.500000   41.280000\n",
       "75%    433.078500                 6.800000   3.250000   58.162500\n",
       "max    808.144000                11.300000   5.000000  106.960000"
      ]
     },
     "execution_count": 4,
     "metadata": {},
     "output_type": "execute_result"
    }
   ],
   "source": [
    "# melihat statistik data\n",
    "df.describe()"
   ]
  },
  {
   "cell_type": "code",
   "execution_count": 5,
   "id": "f688a521",
   "metadata": {},
   "outputs": [
    {
     "data": {
      "text/html": [
       "<div>\n",
       "<style scoped>\n",
       "    .dataframe tbody tr th:only-of-type {\n",
       "        vertical-align: middle;\n",
       "    }\n",
       "\n",
       "    .dataframe tbody tr th {\n",
       "        vertical-align: top;\n",
       "    }\n",
       "\n",
       "    .dataframe thead th {\n",
       "        text-align: right;\n",
       "    }\n",
       "</style>\n",
       "<table border=\"1\" class=\"dataframe\">\n",
       "  <thead>\n",
       "    <tr style=\"text-align: right;\">\n",
       "      <th></th>\n",
       "      <th>price</th>\n",
       "      <th>distance_to_city_center</th>\n",
       "      <th>rooms</th>\n",
       "      <th>size</th>\n",
       "    </tr>\n",
       "  </thead>\n",
       "  <tbody>\n",
       "    <tr>\n",
       "      <th>price</th>\n",
       "      <td>1.000000</td>\n",
       "      <td>-0.197061</td>\n",
       "      <td>0.883011</td>\n",
       "      <td>0.928697</td>\n",
       "    </tr>\n",
       "    <tr>\n",
       "      <th>distance_to_city_center</th>\n",
       "      <td>-0.197061</td>\n",
       "      <td>1.000000</td>\n",
       "      <td>0.024754</td>\n",
       "      <td>0.096394</td>\n",
       "    </tr>\n",
       "    <tr>\n",
       "      <th>rooms</th>\n",
       "      <td>0.883011</td>\n",
       "      <td>0.024754</td>\n",
       "      <td>1.000000</td>\n",
       "      <td>0.943043</td>\n",
       "    </tr>\n",
       "    <tr>\n",
       "      <th>size</th>\n",
       "      <td>0.928697</td>\n",
       "      <td>0.096394</td>\n",
       "      <td>0.943043</td>\n",
       "      <td>1.000000</td>\n",
       "    </tr>\n",
       "  </tbody>\n",
       "</table>\n",
       "</div>"
      ],
      "text/plain": [
       "                            price  distance_to_city_center     rooms      size\n",
       "price                    1.000000                -0.197061  0.883011  0.928697\n",
       "distance_to_city_center -0.197061                 1.000000  0.024754  0.096394\n",
       "rooms                    0.883011                 0.024754  1.000000  0.943043\n",
       "size                     0.928697                 0.096394  0.943043  1.000000"
      ]
     },
     "execution_count": 5,
     "metadata": {},
     "output_type": "execute_result"
    }
   ],
   "source": [
    "# menghitung korelasi\n",
    "df.corr()"
   ]
  },
  {
   "cell_type": "code",
   "execution_count": 6,
   "id": "d39c0a57",
   "metadata": {},
   "outputs": [
    {
     "data": {
      "text/plain": [
       "Text(0.5, 1.0, 'Korelasi antar variabel')"
      ]
     },
     "execution_count": 6,
     "metadata": {},
     "output_type": "execute_result"
    },
    {
     "data": {
      "image/png": "[encoded data removed]",
      "text/plain": [
       "<Figure size 432x288 with 2 Axes>"
      ]
     },
     "metadata": {
      "needs_background": "light"
     },
     "output_type": "display_data"
    }
   ],
   "source": [
    "# melihat korelasi dengan visualisasi heatmap\n",
    "sns.heatmap(df.corr(), annot=False, fmt=\"f\").set_title(\"Korelasi antar variabel\")"
   ]
  },
  {
   "cell_type": "code",
   "execution_count": 7,
   "id": "31915d7a",
   "metadata": {},
   "outputs": [
    {
     "data": {
      "text/plain": [
       "<seaborn.axisgrid.PairGrid at 0x26623ebb490>"
      ]
     },
     "execution_count": 7,
     "metadata": {},
     "output_type": "execute_result"
    },
    {
     "data": {
      "image/png": "[encoded data removed]",
      "text/plain": [
       "<Figure size 540x180 with 3 Axes>"
      ]
     },
     "metadata": {
      "needs_background": "light"
     },
     "output_type": "display_data"
    }
   ],
   "source": [
    "# visualisasi menggunakan scatter plot\n",
    "sns.pairplot(df, x_vars=['distance_to_city_center', 'rooms', 'size'], y_vars='price')"
   ]
  },
  {
   "cell_type": "code",
   "execution_count": 8,
   "id": "8004accf",
   "metadata": {},
   "outputs": [],
   "source": [
    "x = df['size'].values.reshape(-1,1)\n",
    "y = df['price'].values.reshape(-1,1)"
   ]
  },
  {
   "cell_type": "code",
   "execution_count": 9,
   "id": "b9be00a6",
   "metadata": {},
   "outputs": [],
   "source": [
    "# split data train data test\n",
    "X_train, X_test, y_train, y_test = train_test_split(x, y, train_size=0.8, test_size=0.2, random_state=100)"
   ]
  },
  {
   "cell_type": "code",
   "execution_count": 10,
   "id": "0500a6b9",
   "metadata": {},
   "outputs": [],
   "source": [
    "# membuat object variabel linier regresi\n",
    "regressor = linear_model.LinearRegression()"
   ]
  },
  {
   "cell_type": "code",
   "execution_count": 11,
   "id": "58079d69",
   "metadata": {},
   "outputs": [
    {
     "data": {
      "text/html": [
       "<style>#sk-container-id-1 {color: black;background-color: white;}#sk-container-id-1 pre{padding: 0;}#sk-container-id-1 div.sk-toggleable {background-color: white;}#sk-container-id-1 label.sk-toggleable__label {cursor: pointer;display: block;width: 100%;margin-bottom: 0;padding: 0.3em;box-sizing: border-box;text-align: center;}#sk-container-id-1 label.sk-toggleable__label-arrow:before {content: \"▸\";float: left;margin-right: 0.25em;color: #696969;}#sk-container-id-1 label.sk-toggleable__label-arrow:hover:before {color: black;}#sk-container-id-1 div.sk-estimator:hover label.sk-toggleable__label-arrow:before {color: black;}#sk-container-id-1 div.sk-toggleable__content {max-height: 0;max-width: 0;overflow: hidden;text-align: left;background-color: #f0f8ff;}#sk-container-id-1 div.sk-toggleable__content pre {margin: 0.2em;color: black;border-radius: 0.25em;background-color: #f0f8ff;}#sk-container-id-1 input.sk-toggleable__control:checked~div.sk-toggleable__content {max-height: 200px;max-width: 100%;overflow: auto;}#sk-container-id-1 input.sk-toggleable__control:checked~label.sk-toggleable__label-arrow:before {content: \"▾\";}#sk-container-id-1 div.sk-estimator input.sk-toggleable__control:checked~label.sk-toggleable__label {background-color: #d4ebff;}#sk-container-id-1 div.sk-label input.sk-toggleable__control:checked~label.sk-toggleable__label {background-color: #d4ebff;}#sk-container-id-1 input.sk-hidden--visually {border: 0;clip: rect(1px 1px 1px 1px);clip: rect(1px, 1px, 1px, 1px);height: 1px;margin: -1px;overflow: hidden;padding: 0;position: absolute;width: 1px;}#sk-container-id-1 div.sk-estimator {font-family: monospace;background-color: #f0f8ff;border: 1px dotted black;border-radius: 0.25em;box-sizing: border-box;margin-bottom: 0.5em;}#sk-container-id-1 div.sk-estimator:hover {background-color: #d4ebff;}#sk-container-id-1 div.sk-parallel-item::after {content: \"\";width: 100%;border-bottom: 1px solid gray;flex-grow: 1;}#sk-container-id-1 div.sk-label:hover label.sk-toggleable__label {background-color: #d4ebff;}#sk-container-id-1 div.sk-serial::before {content: \"\";position: absolute;border-left: 1px solid gray;box-sizing: border-box;top: 0;bottom: 0;left: 50%;z-index: 0;}#sk-container-id-1 div.sk-serial {display: flex;flex-direction: column;align-items: center;background-color: white;padding-right: 0.2em;padding-left: 0.2em;position: relative;}#sk-container-id-1 div.sk-item {position: relative;z-index: 1;}#sk-container-id-1 div.sk-parallel {display: flex;align-items: stretch;justify-content: center;background-color: white;position: relative;}#sk-container-id-1 div.sk-item::before, #sk-container-id-1 div.sk-parallel-item::before {content: \"\";position: absolute;border-left: 1px solid gray;box-sizing: border-box;top: 0;bottom: 0;left: 50%;z-index: -1;}#sk-container-id-1 div.sk-parallel-item {display: flex;flex-direction: column;z-index: 1;position: relative;background-color: white;}#sk-container-id-1 div.sk-parallel-item:first-child::after {align-self: flex-end;width: 50%;}#sk-container-id-1 div.sk-parallel-item:last-child::after {align-self: flex-start;width: 50%;}#sk-container-id-1 div.sk-parallel-item:only-child::after {width: 0;}#sk-container-id-1 div.sk-dashed-wrapped {border: 1px dashed gray;margin: 0 0.4em 0.5em 0.4em;box-sizing: border-box;padding-bottom: 0.4em;background-color: white;}#sk-container-id-1 div.sk-label label {font-family: monospace;font-weight: bold;display: inline-block;line-height: 1.2em;}#sk-container-id-1 div.sk-label-container {text-align: center;}#sk-container-id-1 div.sk-container {/* jupyter's `normalize.less` sets `[hidden] { display: none; }` but bootstrap.min.css set `[hidden] { display: none !important; }` so we also need the `!important` here to be able to override the default hidden behavior on the sphinx rendered scikit-learn.org. See: https://github.com/scikit-learn/scikit-learn/issues/21755 */display: inline-block !important;position: relative;}#sk-container-id-1 div.sk-text-repr-fallback {display: none;}</style><div id=\"sk-container-id-1\" class=\"sk-top-container\"><div class=\"sk-text-repr-fallback\"><pre>LinearRegression()</pre><b>In a Jupyter environment, please rerun this cell to show the HTML representation or trust the notebook. <br />On GitHub, the HTML representation is unable to render, please try loading this page with nbviewer.org.</b></div><div class=\"sk-container\" hidden><div class=\"sk-item\"><div class=\"sk-estimator sk-toggleable\"><input class=\"sk-toggleable__control sk-hidden--visually\" id=\"sk-estimator-id-1\" type=\"checkbox\" checked><label for=\"sk-estimator-id-1\" class=\"sk-toggleable__label sk-toggleable__label-arrow\">LinearRegression</label><div class=\"sk-toggleable__content\"><pre>LinearRegression()</pre></div></div></div></div></div>"
      ],
      "text/plain": [
       "LinearRegression()"
      ]
     },
     "execution_count": 11,
     "metadata": {},
     "output_type": "execute_result"
    }
   ],
   "source": [
    "# training model menggunakan training data\n",
    "regressor.fit(X_train,y_train)"
   ]
  },
  {
   "cell_type": "code",
   "execution_count": 12,
   "id": "302f3575",
   "metadata": {},
   "outputs": [
    {
     "name": "stdout",
     "output_type": "stream",
     "text": [
      "slope = [34.54169871]\n",
      "intercept = [[6.83528022]]\n"
     ]
    }
   ],
   "source": [
    "# mencari koefisien regresi dalam hal ini adalah koefisien/slope(b1) dan intercept(b0)\n",
    "print('slope =', regressor.intercept_)\n",
    "print('intercept =', regressor.coef_)"
   ]
  },
  {
   "cell_type": "code",
   "execution_count": 13,
   "id": "4c845074",
   "metadata": {},
   "outputs": [
    {
     "data": {
      "text/plain": [
       "0.8837376449630483"
      ]
     },
     "execution_count": 13,
     "metadata": {},
     "output_type": "execute_result"
    }
   ],
   "source": [
    "# mencari skor akurasi dari meodel menggunakan testing data\n",
    "regressor.score(X_test,y_test)"
   ]
  },
  {
   "cell_type": "code",
   "execution_count": 14,
   "id": "bbd76ecd",
   "metadata": {},
   "outputs": [
    {
     "data": {
      "text/plain": [
       "0.9400732125547714"
      ]
     },
     "execution_count": 14,
     "metadata": {},
     "output_type": "execute_result"
    }
   ],
   "source": [
    "# menghitung korelasi testing data\n",
    "math.sqrt(regressor.score(X_test,y_test))"
   ]
  },
  {
   "cell_type": "code",
   "execution_count": 15,
   "id": "bce73756",
   "metadata": {},
   "outputs": [
    {
     "data": {
      "text/plain": [
       "Text(0.5, 1.0, 'plot perbandingan hasil prediksi dan data asli')"
      ]
     },
     "execution_count": 15,
     "metadata": {},
     "output_type": "execute_result"
    },
    {
     "data": {
      "image/png": "[encoded data removed]",
      "text/plain": [
       "<Figure size 432x288 with 1 Axes>"
      ]
     },
     "metadata": {
      "needs_background": "light"
     },
     "output_type": "display_data"
    }
   ],
   "source": [
    "# visualisasi hasil regresi linier\n",
    "y_prediksi = regressor.predict(X_test)\n",
    "\n",
    "plt.scatter(X_test,y_test)\n",
    "plt.plot(X_test,y_prediksi, c='g')\n",
    "plt.xlabel('size')\n",
    "plt.ylabel('price')\n",
    "plt.title('plot perbandingan hasil prediksi dan data asli')"
   ]
  },
  {
   "cell_type": "code",
   "execution_count": 16,
   "id": "86ac02cd",
   "metadata": {},
   "outputs": [
    {
     "data": {
      "text/html": [
       "<div>\n",
       "<style scoped>\n",
       "    .dataframe tbody tr th:only-of-type {\n",
       "        vertical-align: middle;\n",
       "    }\n",
       "\n",
       "    .dataframe tbody tr th {\n",
       "        vertical-align: top;\n",
       "    }\n",
       "\n",
       "    .dataframe thead th {\n",
       "        text-align: right;\n",
       "    }\n",
       "</style>\n",
       "<table border=\"1\" class=\"dataframe\">\n",
       "  <thead>\n",
       "    <tr style=\"text-align: right;\">\n",
       "      <th></th>\n",
       "      <th>x_test</th>\n",
       "      <th>y_test</th>\n",
       "      <th>y_predict</th>\n",
       "    </tr>\n",
       "  </thead>\n",
       "  <tbody>\n",
       "    <tr>\n",
       "      <th>0</th>\n",
       "      <td>25.54</td>\n",
       "      <td>193.052</td>\n",
       "      <td>209.114756</td>\n",
       "    </tr>\n",
       "    <tr>\n",
       "      <th>1</th>\n",
       "      <td>100.88</td>\n",
       "      <td>700.000</td>\n",
       "      <td>724.084768</td>\n",
       "    </tr>\n",
       "    <tr>\n",
       "      <th>2</th>\n",
       "      <td>53.61</td>\n",
       "      <td>427.023</td>\n",
       "      <td>400.981072</td>\n",
       "    </tr>\n",
       "    <tr>\n",
       "      <th>3</th>\n",
       "      <td>54.18</td>\n",
       "      <td>409.836</td>\n",
       "      <td>404.877181</td>\n",
       "    </tr>\n",
       "    <tr>\n",
       "      <th>4</th>\n",
       "      <td>75.59</td>\n",
       "      <td>521.571</td>\n",
       "      <td>551.220531</td>\n",
       "    </tr>\n",
       "    <tr>\n",
       "      <th>5</th>\n",
       "      <td>67.35</td>\n",
       "      <td>451.245</td>\n",
       "      <td>494.897822</td>\n",
       "    </tr>\n",
       "    <tr>\n",
       "      <th>6</th>\n",
       "      <td>75.92</td>\n",
       "      <td>529.753</td>\n",
       "      <td>553.476173</td>\n",
       "    </tr>\n",
       "    <tr>\n",
       "      <th>7</th>\n",
       "      <td>53.83</td>\n",
       "      <td>339.129</td>\n",
       "      <td>402.484833</td>\n",
       "    </tr>\n",
       "    <tr>\n",
       "      <th>8</th>\n",
       "      <td>32.02</td>\n",
       "      <td>232.113</td>\n",
       "      <td>253.407371</td>\n",
       "    </tr>\n",
       "    <tr>\n",
       "      <th>9</th>\n",
       "      <td>26.87</td>\n",
       "      <td>185.967</td>\n",
       "      <td>218.205678</td>\n",
       "    </tr>\n",
       "    <tr>\n",
       "      <th>10</th>\n",
       "      <td>25.62</td>\n",
       "      <td>231.861</td>\n",
       "      <td>209.661578</td>\n",
       "    </tr>\n",
       "    <tr>\n",
       "      <th>11</th>\n",
       "      <td>40.69</td>\n",
       "      <td>287.600</td>\n",
       "      <td>312.669251</td>\n",
       "    </tr>\n",
       "    <tr>\n",
       "      <th>12</th>\n",
       "      <td>34.32</td>\n",
       "      <td>223.080</td>\n",
       "      <td>269.128516</td>\n",
       "    </tr>\n",
       "    <tr>\n",
       "      <th>13</th>\n",
       "      <td>27.85</td>\n",
       "      <td>185.025</td>\n",
       "      <td>224.904253</td>\n",
       "    </tr>\n",
       "    <tr>\n",
       "      <th>14</th>\n",
       "      <td>87.91</td>\n",
       "      <td>483.505</td>\n",
       "      <td>635.431183</td>\n",
       "    </tr>\n",
       "    <tr>\n",
       "      <th>15</th>\n",
       "      <td>49.42</td>\n",
       "      <td>325.777</td>\n",
       "      <td>372.341247</td>\n",
       "    </tr>\n",
       "  </tbody>\n",
       "</table>\n",
       "</div>"
      ],
      "text/plain": [
       "    x_test   y_test   y_predict\n",
       "0    25.54  193.052  209.114756\n",
       "1   100.88  700.000  724.084768\n",
       "2    53.61  427.023  400.981072\n",
       "3    54.18  409.836  404.877181\n",
       "4    75.59  521.571  551.220531\n",
       "5    67.35  451.245  494.897822\n",
       "6    75.92  529.753  553.476173\n",
       "7    53.83  339.129  402.484833\n",
       "8    32.02  232.113  253.407371\n",
       "9    26.87  185.967  218.205678\n",
       "10   25.62  231.861  209.661578\n",
       "11   40.69  287.600  312.669251\n",
       "12   34.32  223.080  269.128516\n",
       "13   27.85  185.025  224.904253\n",
       "14   87.91  483.505  635.431183\n",
       "15   49.42  325.777  372.341247"
      ]
     },
     "execution_count": 16,
     "metadata": {},
     "output_type": "execute_result"
    }
   ],
   "source": [
    "# menampilkan tabel berisi data test dan data train\n",
    "np_table = np.concatenate((X_test,y_test,y_prediksi), axis=1)\n",
    "df_baru = pd.DataFrame(data=np_table, columns=['x_test','y_test','y_predict'])\n",
    "df_baru"
   ]
  },
  {
   "cell_type": "code",
   "execution_count": 17,
   "id": "45f86dcc",
   "metadata": {},
   "outputs": [
    {
     "name": "stdout",
     "output_type": "stream",
     "text": [
      "nilai mape adalah 11.893742319324534\n"
     ]
    }
   ],
   "source": [
    "# menghitung nilai mape\n",
    "mape = 100*np.mean(abs(y_prediksi-y_test)/y_test)\n",
    "print('nilai mape adalah', mape)"
   ]
  }
 ],
 "metadata": {
  "kernelspec": {
   "display_name": "Python 3 (ipykernel)",
   "language": "python",
   "name": "python3"
  },
  "language_info": {
   "codemirror_mode": {
    "name": "ipython",
    "version": 3
   },
   "file_extension": ".py",
   "mimetype": "text/x-python",
   "name": "python",
   "nbconvert_exporter": "python",
   "pygments_lexer": "ipython3",
   "version": "3.9.9"
  }
 },
 "nbformat": 4,
 "nbformat_minor": 5
}
